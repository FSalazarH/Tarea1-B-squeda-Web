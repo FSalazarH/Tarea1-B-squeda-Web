{
 "cells": [
  {
   "cell_type": "markdown",
   "metadata": {
    "deletable": true,
    "editable": true
   },
   "source": [
    "<center>\n",
    "    <h1> INF335 - Tecnologías de Búsqueda Web   </h1>\n",
    "    <h2> Tarea 1 </h2>\n",
    "    <h3> Universidad Técnica Federico Santa Maria </h3>\n",
    "    \n",
    "</center>\n",
    "\n",
    "_Marzo 2017_\n",
    "<p>Profesor: Marcelo Mendoza</p>\n",
    " <p>Ayudante: Daniel Rivera</p>\n"
   ]
  },
  {
   "cell_type": "markdown",
   "metadata": {},
   "source": [
    "<h2> Objetivos </h2>\n",
    "<ul>\n",
    "<li  style =\"margin: 12px 0px; font-size:16px\"> Implementar y analizar la herramienta de python NLTK (Natural Language Tookit) para trabajar con procesamiento de texto y lenguaje natural. </li>\n",
    "<li style =\"margin: 12px 0px;font-size:16px \" > Estudiar e implementar las estructuras de datos adecuadas para representar un corpus, documentos y palabras con su categorización correspondiente.</li>\n",
    "</ul>"
   ]
  },
  {
   "cell_type": "markdown",
   "metadata": {
    "deletable": true,
    "editable": true
   },
   "source": [
    "<h2>Dataset : Amazon Fine Food Review</h2>\n",
    "\n",
    "<p style=\"font-size:16px\"> Para esta tarea se va a trabajar con el dataset de <i>“Amazon Fine Food Review”</i> el cual contiene más de 500.000 críticas de platos de comida y restaurants provenientes de Amazon. El archivo consiste en un .csv (“Comma Separate Values”) el cual contiene la siguiente estructura:</p>"
   ]
  },
  {
   "cell_type": "markdown",
   "metadata": {
    "collapsed": true,
    "deletable": true,
    "editable": true
   },
   "source": [
    "<ol>\n",
    "<li style =\"margin: 5px 0px;\"> <strong>Id</strong> - Id único de cada reseña</li>\n",
    "<li style =\"margin: 8px 0px;\"><strong> ProductId</strong> - Id único que identifica el producto a analizar</li>\n",
    "<li style =\"margin: 8px 0px;\"><strong>UserId</strong> - Id único que identifica al usuario</li>\n",
    "<li style =\"margin: 8px 0px;\" ><strong>ProfileName</strong> - Nombre del usuario que realizó la reseña</li>\n",
    "<li style =\"margin: 8px 0px;\"><strong>HelpfulnessNumerator</strong> -  número de usuarios que indicaron que encontraron esta crítica util</li>\n",
    "<li style =\"margin: 8px 0px;\" ><strong>HelpfulnessDenominator</strong> número de usuarios que indicaron que encontraron esta crítica util -</li>\n",
    "<li style =\"margin: 8px 0px;\" ><strong>Score</strong> - Rating, con valores entre 1 y 5 estrellas</li>\n",
    "<li style =\"margin: 8px 0px;\" ><strong>Time</strong> - timestamp for the review</li>\n",
    "<li style =\"margin: 8px 0px;\" ><strong>Summary</strong> - breve resumen de la reseña</li>\n",
    "<li style =\"margin: 8px 0px;\"><strong>Text</strong> - string que contiene la reseña </li>\n",
    "</ol>\n"
   ]
  },
  {
   "cell_type": "markdown",
   "metadata": {},
   "source": [
    "<p style=\"font-size:16px\" > <strong> Link Descarga Dataset: https://drive.google.com/open?id=0B1GNvIDVzwwLR2dwQVliRnBWMnM </strong>  </p> \n",
    "\n",
    "<p style=\"font-size:16px\" > <b> Objetivo: </b> Extraiga del documento el item “Text” y generé un corpus , almacenando en un string todas las reseñas del dataset . Usará esta variable para realizar las siguientes etapas de preprocesamiento de texto.</p>"
   ]
  },
  {
   "cell_type": "code",
   "execution_count": 1,
   "metadata": {
    "collapsed": true
   },
   "outputs": [],
   "source": [
    "import nltk"
   ]
  },
  {
   "cell_type": "code",
   "execution_count": 2,
   "metadata": {
    "collapsed": false
   },
   "outputs": [],
   "source": [
    "import csv\n",
    "\n",
    "with open('amazon-fine-foods/Reviews.csv', encoding=\"utf8\") as csvfile:\n",
    "    reader = csv.DictReader(csvfile)\n",
    "    reseña = []\n",
    "    for row in reader:\n",
    "        reseña.append(row['Text'])"
   ]
  },
  {
   "cell_type": "code",
   "execution_count": 3,
   "metadata": {
    "collapsed": false
   },
   "outputs": [
    {
     "data": {
      "text/plain": [
       "'If you are like me, chances are that you\\'ve eaten a lot of Girl Scout cookies over the years, and if you are like most GSA cookie buyers, your favorites are the famous <a href=\"http://www.amazon.com/gp/product/B003D7TPZS\">Girl Scout Thin Mint Cookies</a>.  If this is true, chances are you have found the occasional thin mint cookie that equaled them but not a thin mint cookie that bettered them,...<br /><br />until now.<br /><br />These <a href=\"http://www.amazon.com/gp/product/B004JGQ15Y\">Oreo Peanut Butter Fudge Cr&egrave;mes</a>, also available in <a href=\"http://www.amazon.com/gp/product/B003XV1TAS\">Oreo Regular Fudge Cr&egrave;mes</a>, <a href=\"http://www.amazon.com/gp/product/B003XV8XK2\">Oreo Mint Fudge Cr&egrave;mes</a>, and <a href=\"http://www.amazon.com/gp/product/B004JGQ16I\">Oreo Golden Oreo Fudge Cr&egrave;mes</a>, are IMHO BETTER tasting than the Girl Scout Thin Mint Cookies so while I might in future be persuaded to purchase fund raising thin mint cookies, they will be for other people.<br /><br />I\\'ll be eating these!<br /><br />Note: As other reviewers have noted, this is not an entirely new concept for Oreo, which has offered limited editions of chocolate dipped whole sandwich cookies: <a href=\"http://www.amazon.com/gp/product/B004L98AQ2\">Oreo Mint Fudge Covered Chocolate Sandwich Cookies</a>, <a href=\"http://www.amazon.com/gp/product/B00110E15I\">Oreo Pure Milk Chocolate Covered Mint Sandwich Cookies</a>, and <a href=\"http://www.amazon.com/gp/product/B002UQIUA4\">Oreo White Fudge Covered Chocolate Sandwich Cookies</a>.  The trouble is that these are by definition limited editions that may not be available when you want to purchase them while the new fudge covered half cookies look to be a regular stock item available year round.'"
      ]
     },
     "execution_count": 3,
     "metadata": {},
     "output_type": "execute_result"
    }
   ],
   "source": [
    "reseña[524000]"
   ]
  },
  {
   "cell_type": "markdown",
   "metadata": {},
   "source": [
    "<h2>Preprocesamiento:</h2>\n",
    "# 1\n",
    "<li style =\"margin: 12px 0px;\" >\n",
    "<p style=\"font-size:16px\" > Si observa el corpus, se dará cuenta de que hay etiquetas <i>html</i> embebidas en algunas reseñas. Para eliminar estas etiquetas , use la libreria <i>Beautiful Soup</i> (link: https://www.crummy.com/software/BeautifulSoup/bs4/doc/).</p> </li>\n",
    "\n",
    "\n"
   ]
  },
  {
   "cell_type": "code",
   "execution_count": 4,
   "metadata": {
    "collapsed": false
   },
   "outputs": [],
   "source": [
    "from bs4 import BeautifulSoup\n",
    "\n",
    "reseñas = []\n",
    "for i in range(len(reseña)):\n",
    "    markup = reseña[i]\n",
    "    soup = BeautifulSoup(markup, 'lxml')\n",
    "    reseña_sintag = soup.get_text()\n",
    "    reseñas.append(reseña_sintag)"
   ]
  },
  {
   "cell_type": "code",
   "execution_count": 5,
   "metadata": {
    "collapsed": false
   },
   "outputs": [
    {
     "data": {
      "text/plain": [
       "\"If you are like me, chances are that you've eaten a lot of Girl Scout cookies over the years, and if you are like most GSA cookie buyers, your favorites are the famous Girl Scout Thin Mint Cookies.  If this is true, chances are you have found the occasional thin mint cookie that equaled them but not a thin mint cookie that bettered them,...until now.These Oreo Peanut Butter Fudge Crèmes, also available in Oreo Regular Fudge Crèmes, Oreo Mint Fudge Crèmes, and Oreo Golden Oreo Fudge Crèmes, are IMHO BETTER tasting than the Girl Scout Thin Mint Cookies so while I might in future be persuaded to purchase fund raising thin mint cookies, they will be for other people.I'll be eating these!Note: As other reviewers have noted, this is not an entirely new concept for Oreo, which has offered limited editions of chocolate dipped whole sandwich cookies: Oreo Mint Fudge Covered Chocolate Sandwich Cookies, Oreo Pure Milk Chocolate Covered Mint Sandwich Cookies, and Oreo White Fudge Covered Chocolate Sandwich Cookies.  The trouble is that these are by definition limited editions that may not be available when you want to purchase them while the new fudge covered half cookies look to be a regular stock item available year round.\""
      ]
     },
     "execution_count": 5,
     "metadata": {},
     "output_type": "execute_result"
    }
   ],
   "source": [
    "#reseñas is a list of reseñas after remove all tags (large 568454)\n",
    "reseñas[524000]"
   ]
  },
  {
   "cell_type": "markdown",
   "metadata": {},
   "source": [
    "<p> A continuación, guardaremos el estado del corpus utilizando la librería Pickle </p>"
   ]
  },
  {
   "cell_type": "code",
   "execution_count": 6,
   "metadata": {
    "collapsed": false
   },
   "outputs": [],
   "source": [
    "#Using Pickle for save de state of corpus\n",
    "import pickle\n",
    "\n",
    "pickle_out = open(\"corpus.pickle\", \"wb\")\n",
    "pickle.dump(reseñas, pickle_out)\n",
    "pickle_out.close()"
   ]
  },
  {
   "cell_type": "markdown",
   "metadata": {},
   "source": [
    "<p> Corpus.pickle es una lista con todas las reseñas luego de remover las etiquetas html. </p>"
   ]
  },
  {
   "cell_type": "code",
   "execution_count": 8,
   "metadata": {
    "collapsed": false
   },
   "outputs": [],
   "source": [
    "import pickle\n",
    "\n",
    "pickle_in = open(\"corpus.pickle\", \"rb\")\n",
    "\n",
    "reseñas = pickle.load(pickle_in)"
   ]
  },
  {
   "cell_type": "markdown",
   "metadata": {},
   "source": [
    "<p> Luego, procederemos a dejar el corpus como una lista de listas de sentencias </p>"
   ]
  },
  {
   "cell_type": "code",
   "execution_count": 10,
   "metadata": {
    "collapsed": false
   },
   "outputs": [],
   "source": [
    "from nltk.tokenize import sent_tokenize, word_tokenize\n",
    "\n",
    "reseña_sent_token = []\n",
    "\n",
    "for i in range(len(reseñas)):\n",
    "    reseña_sent_token.append(sent_tokenize(reseñas[i]))"
   ]
  },
  {
   "cell_type": "code",
   "execution_count": 11,
   "metadata": {
    "collapsed": false
   },
   "outputs": [
    {
     "data": {
      "text/plain": [
       "['I have bought several of the Vitality canned dog food products and have found them all to be of good quality.',\n",
       " 'The product looks more like a stew than a processed meat and it smells better.',\n",
       " 'My Labrador is finicky and she appreciates this product better than  most.']"
      ]
     },
     "execution_count": 11,
     "metadata": {},
     "output_type": "execute_result"
    }
   ],
   "source": [
    "#reseña_sent_token is a list of list that contain a tokenize sentences\n",
    "reseña_sent_token[0]"
   ]
  },
  {
   "cell_type": "markdown",
   "metadata": {},
   "source": [
    "# 2\n",
    "<li style =\"margin: 12px 0px;\">\n",
    "<p style=\"font-size:16px\"> Convierta el corpus , de modo que solo existan minúsculas (<code>lowercase</code>). </p></li>"
   ]
  },
  {
   "cell_type": "code",
   "execution_count": 16,
   "metadata": {
    "collapsed": false
   },
   "outputs": [],
   "source": [
    "corpus_sent_tokenize = []\n",
    "\n",
    "for i in range(len(reseña_sent_token)):\n",
    "    for j in range(len(reseña_sent_token[i])):\n",
    "        corpus_sent_tokenize.append(reseña_sent_token[i][j].lower())"
   ]
  },
  {
   "cell_type": "code",
   "execution_count": 17,
   "metadata": {
    "collapsed": false
   },
   "outputs": [
    {
     "data": {
      "text/plain": [
       "'product arrived labeled as jumbo salted peanuts...the peanuts were actually small sized unsalted.'"
      ]
     },
     "execution_count": 17,
     "metadata": {},
     "output_type": "execute_result"
    }
   ],
   "source": [
    "corpus_sent_tokenize[3] #corpus is a list with all sentences"
   ]
  },
  {
   "cell_type": "code",
   "execution_count": 16,
   "metadata": {
    "collapsed": true
   },
   "outputs": [],
   "source": [
    "#save corpus_sent_tokenize for sentimental analisys \n",
    "#Using Pickle for save de state of corpus\n",
    "import pickle\n",
    "\n",
    "pickle_out = open(\"corpus_sent_tokenize.pickle\", \"wb\")\n",
    "pickle.dump(corpus, pickle_out)\n",
    "pickle_out.close()"
   ]
  },
  {
   "cell_type": "markdown",
   "metadata": {},
   "source": [
    "## Correr desde acá para Sentymental Analysis"
   ]
  },
  {
   "cell_type": "code",
   "execution_count": 24,
   "metadata": {
    "collapsed": true
   },
   "outputs": [],
   "source": [
    "import pickle\n",
    "\n",
    "pickle_in = open(\"corpus_sent_tokenize.pickle\", \"rb\")\n",
    "\n",
    "corpus_sent_tokenize = pickle.load(pickle_in)"
   ]
  },
  {
   "cell_type": "markdown",
   "metadata": {},
   "source": [
    "<p> Tokenizando a nivel de palabra... </p>"
   ]
  },
  {
   "cell_type": "code",
   "execution_count": 18,
   "metadata": {
    "collapsed": false
   },
   "outputs": [],
   "source": [
    "from nltk.tokenize import word_tokenize\n",
    "\n",
    "corpus_word_tokenize = []\n",
    "\n",
    "for i in range(len(corpus_sent_tokenize)):\n",
    "    corpus_word_tokenize.append(word_tokenize(corpus_sent_tokenize[i]))"
   ]
  },
  {
   "cell_type": "markdown",
   "metadata": {},
   "source": [
    "# 3 \n",
    "<li style =\"margin: 12px 0px;\">\n",
    "<p style=\"font-size:16px\" > Usando la lista de stopwords ortorgada por nltk, elimine aquellas palabras que sean clasificadas como stopwords, es decir, aquellas palabras que poseen poco contexto léxico y no otorgan información relevante. </p></li>"
   ]
  },
  {
   "cell_type": "code",
   "execution_count": 19,
   "metadata": {
    "collapsed": false
   },
   "outputs": [],
   "source": [
    "from nltk.corpus import stopwords\n",
    "\n",
    "stop_words =set(stopwords.words(\"english\"))\n",
    "stop_words.update(['.','%','``', \"''\", '-', '--','...', ',', '\"', \"'\", '?', '!', ':', ';', '(', ')', '[', ']', '{', '}','>','<','$']) \n",
    "\n",
    "corpus_filtered = []\n",
    "\n",
    "for i in corpus_word_tokenize:\n",
    "    for j in i:\n",
    "        if j not in stop_words:\n",
    "            corpus_filtered.append(j)"
   ]
  },
  {
   "cell_type": "code",
   "execution_count": 20,
   "metadata": {
    "collapsed": false
   },
   "outputs": [],
   "source": [
    "import pickle\n",
    "\n",
    "corpus = open(\"corpus_word_tokenize.pickle\", \"wb\")\n",
    "pickle.dump(corpus_filtered, corpus)\n",
    "corpus.close()"
   ]
  },
  {
   "cell_type": "markdown",
   "metadata": {},
   "source": [
    "## Desde acá comenzamos con el corpus ya tokenizado a nivel de word y luego de hacer el filtro de stopwords"
   ]
  },
  {
   "cell_type": "code",
   "execution_count": 21,
   "metadata": {
    "collapsed": false
   },
   "outputs": [],
   "source": [
    "import pickle\n",
    "\n",
    "pickle_in = open(\"corpus_word_tokenize.pickle\", \"rb\")\n",
    "corpus = pickle.load(pickle_in)"
   ]
  },
  {
   "cell_type": "markdown",
   "metadata": {},
   "source": [
    "# 4\n",
    "<li style =\"margin: 12px 0px;\">\n",
    "<p style=\"font-size:16px\" > Elimine las palabras que aparezcan en el corpus con una frecuencia inferior a un umbral definido (ejemplo : inferior a 3) ( para ello, es recomendable determinar previo la frecuencia de cada término usando un diccionario). </p></li>"
   ]
  },
  {
   "cell_type": "code",
   "execution_count": 22,
   "metadata": {
    "collapsed": false
   },
   "outputs": [],
   "source": [
    "#corpus_filterbyfreq contain the words with frequency > 5 \n",
    "corpus_filterbyfreq = []\n",
    "\n",
    "#diccionario de palabras\n",
    "diccionario = {}\n",
    "\n",
    "for i in set(corpus):\n",
    "    diccionario[i] = 0\n",
    "\n",
    "for i in corpus:\n",
    "    diccionario[i]+= 1"
   ]
  },
  {
   "cell_type": "code",
   "execution_count": 23,
   "metadata": {
    "collapsed": false
   },
   "outputs": [],
   "source": [
    "for i in corpus:\n",
    "    if(diccionario[i]>10):\n",
    "        corpus_filterbyfreq.append(i)"
   ]
  },
  {
   "cell_type": "code",
   "execution_count": 24,
   "metadata": {
    "collapsed": false
   },
   "outputs": [
    {
     "name": "stdout",
     "output_type": "stream",
     "text": [
      "23633518\n",
      "23091889\n",
      "['bought', 'several', 'vitality', 'canned', 'dog', 'food', 'products', 'found', 'good', 'quality', 'product', 'looks', 'like', 'stew', 'processed', 'meat', 'smells', 'better', 'labrador', 'finicky', 'appreciates', 'product', 'better', 'product', 'arrived', 'labeled', 'jumbo', 'salted', 'peanuts', 'peanuts', 'actually', 'small', 'sized', 'unsalted', 'sure', 'error', 'vendor', 'intended', 'represent', 'product', 'jumbo', 'confection', 'around', 'centuries', 'light', 'pillowy', 'citrus', 'gelatin', 'nuts', 'case', 'filberts', 'cut', 'tiny', 'squares', 'liberally', 'coated', 'powdered', 'sugar', 'tiny', 'mouthful', 'heaven', 'chewy', 'flavorful', 'highly', 'recommend', 'yummy', 'treat', 'familiar', 'story', 'lewis', 'lion', 'witch', 'wardrobe', 'treat', 'edmund', 'selling', 'brother', 'sisters', 'witch', 'looking', 'secret', 'ingredient', 'robitussin', 'believe', 'found', 'got', 'addition', 'root', 'beer', 'extract', 'ordered', 'good', 'made', 'cherry', 'soda', 'flavor', 'medicinal', 'great', 'taffy', 'great']\n"
     ]
    }
   ],
   "source": [
    "print(len(corpus))\n",
    "print(len(corpus_filterbyfreq))\n",
    "print(corpus_filterbyfreq[0:100])"
   ]
  },
  {
   "cell_type": "markdown",
   "metadata": {},
   "source": [
    "## esto tarda mucho...\n",
    "# 5\n",
    "<li style =\"margin: 12px 0px;\">\n",
    "<p style=\"font-size:16px\" > Usando nltk, determine los Top-30 collocations mas relevantes del corpus, usando Bigramas .Implemente la función <code>BigramAssocMeasures()</code> y <code>BigramCollocationFinder.from_words()</code>. Recuerde que para este punto el corpus debe estar tokenizado. (mirar documentación). </p></li>"
   ]
  },
  {
   "cell_type": "code",
   "execution_count": 26,
   "metadata": {
    "collapsed": false
   },
   "outputs": [
    {
     "name": "stdout",
     "output_type": "stream",
     "text": [
      "Printing Top 30 collocations: \n",
      "[('ca', \"n't\"), ('peanut', 'butter'), ('highly', 'recommend'), ('gluten', 'free'), ('grocery', 'store'), ('wo', \"n't\"), ('subscribe', 'save'), ('green', 'tea'), (\"'ve\", 'tried'), ('best', 'ever'), ('local', 'store'), ('year', 'old'), ('earl', 'grey'), ('dog', 'food'), ('cat', 'food'), ('would', 'recommend'), ('dark', 'chocolate'), ('olive', 'oil'), ('years', 'ago'), ('tea', 'tea'), ('cup', 'coffee'), ('tastes', 'like'), ('green', 'mountain'), ('much', 'better'), ('expiration', 'date'), ('coconut', 'oil'), (\"'m\", 'sure'), ('local', 'grocery'), ('science', 'diet'), ('sea', 'salt')]\n"
     ]
    }
   ],
   "source": [
    "import nltk\n",
    "from nltk.collocations import * \n",
    "\n",
    "bigram_measures = nltk.collocations.BigramAssocMeasures()\n",
    "finder = BigramCollocationFinder.from_words(corpus_filterbyfreq, 5)\n",
    "print('Printing Top 30 collocations: ')\n",
    "print(finder.nbest(bigram_measures.likelihood_ratio,30))"
   ]
  },
  {
   "cell_type": "markdown",
   "metadata": {},
   "source": [
    "# 6\n",
    "<li style =\"margin: 12px 0px;\">\n",
    "<p style=\"font-size:16px\" > Usando la libreria incorporada en nltk, implemente Stanford POS tagger para categorizar y obtener los tags de cada token del corpus usando Part-Of-Speech Tagger (POSTagger). </p></li>"
   ]
  },
  {
   "cell_type": "code",
   "execution_count": 27,
   "metadata": {
    "collapsed": false
   },
   "outputs": [
    {
     "data": {
      "text/plain": [
       "23091889"
      ]
     },
     "execution_count": 27,
     "metadata": {},
     "output_type": "execute_result"
    }
   ],
   "source": [
    "len(corpus_filterbyfreq)"
   ]
  },
  {
   "cell_type": "code",
   "execution_count": 28,
   "metadata": {
    "collapsed": false
   },
   "outputs": [
    {
     "name": "stdout",
     "output_type": "stream",
     "text": [
      "[Found C:/Program Files/Java/jdk1.8.0_121/bin/: C:/Program Files/Java/jdk1.8.0_121/bin/java.exe]\n"
     ]
    }
   ],
   "source": [
    "import os\n",
    "java_path=\"C:/Program Files/Java/jdk1.8.0_121/bin/java.exe\"\n",
    "os.environ['JAVAHOME'] = java_path\n",
    "\n",
    "nltk.internals.config_java(\"C:/Program Files/Java/jdk1.8.0_121/bin/\")\n",
    "jar = '../stanford-postagger-full-2016-10-31/stanford-postagger.jar'\n",
    "model = '../stanford-postagger-full-2016-10-31/models/english-left3words-distsim.tagger'"
   ]
  },
  {
   "cell_type": "code",
   "execution_count": null,
   "metadata": {
    "collapsed": false
   },
   "outputs": [],
   "source": [
    "from nltk.tag import StanfordPOSTagger\n",
    "\n",
    "corpus_primeros_100 = set(corpus[0:100])\n",
    "\n",
    "pos_tagger = StanfordPOSTagger(model, jar, encoding='utf8')\n",
    "\n",
    "corpus_pos_tags = pos_tagger.tag(corpus_primeros_100)"
   ]
  },
  {
   "cell_type": "code",
   "execution_count": 54,
   "metadata": {
    "collapsed": false
   },
   "outputs": [
    {
     "name": "stdout",
     "output_type": "stream",
     "text": [
      "[('meat', 'NN'), ('lewis', 'NN'), ('edmund', 'NN'), ('soda', 'NN'), ('vendor', 'NN'), ('medicinal', 'JJ'), ('product', 'NN'), ('peanuts', 'NNS'), ('bought', 'VBD'), ('robitussin', 'NN'), ('beer', 'NN'), ('liberally', 'RB'), ('actually', 'RB'), ('stew', 'NN'), ('citrus', 'NN'), ('brother', 'NN'), ('quality', 'NN'), ('represent', 'VBP'), ('sure', 'JJ'), ('small', 'JJ'), ('pillowy', 'NN'), ('addition', 'NN'), ('highly', 'RB'), ('looking', 'VBG'), ('ingredient', 'NN'), ('secret', 'JJ'), ('witch', 'NN'), ('cut', 'NN'), ('food', 'NN'), ('labeled', 'VBN'), ('seduces', 'VBZ'), ('confection', 'NN'), ('sized', 'VBN'), ('c.s', 'NNS'), ('ordered', 'VBD'), ('labrador', 'NN'), ('appreciates', 'VBZ'), ('heaven', 'NN'), ('around', 'IN'), ('sisters', 'NNS'), ('error', 'NN'), ('lion', 'NN'), ('arrived', 'VBD'), ('believe', 'VB'), ('got', 'VBD'), ('powdered', 'JJ'), ('root', 'NN'), ('smells', 'VBZ'), ('mouthful', 'JJ'), ('light', 'NN'), ('products', 'NNS'), ('vitality', 'NN'), ('nuts', 'NNS'), ('salted', 'VBN'), ('like', 'IN'), ('good', 'JJ'), ('intended', 'JJ'), ('unsalted', 'JJ'), ('squares', 'NNS'), ('finicky', 'JJ'), ('cherry', 'NN'), ('sugar', 'NN'), ('story', 'NN'), ('canned', 'VBD'), ('recommend', 'VB'), ('made', 'VBN'), ('gelatin', 'NN'), ('several', 'JJ'), ('treat', 'NN'), ('case', 'NN'), ('found', 'VBD'), ('better', 'JJR'), ('dog', 'NN'), ('processed', 'VBN'), ('great', 'JJ'), ('coated', 'JJ'), ('wardrobe', 'NN'), ('flavor', 'NN'), ('flavorful', 'JJ'), ('familiar', 'JJ'), ('centuries', 'NNS'), ('tiny', 'JJ'), ('chewy', 'JJ'), ('extract', 'NN'), ('yummy', 'JJ'), ('jumbo', 'JJ'), ('filberts', 'NNS'), ('selling', 'VBG'), ('looks', 'NNS')]\n"
     ]
    }
   ],
   "source": [
    "print(corpus_pos_tags)"
   ]
  },
  {
   "cell_type": "code",
   "execution_count": 50,
   "metadata": {
    "collapsed": false
   },
   "outputs": [
    {
     "name": "stdout",
     "output_type": "stream",
     "text": [
      "[('i highly recommend this yummy treat.', 'NN'), ('!', '.'), ('between me, my kids, and my husband, this lasted only two weeks!', 'NN'), ('the flavor is very medicinal.', 'JJ'), (\"i got this for my mum who is not diabetic but needs to watch her sugar intake, and my father who simply chooses to limit unnecessary sugar intake - she's the one with the sweet tooth - they both loved these toffees, you would never guess that they're sugar-free and it's so great that you can eat them pretty much guilt free!\", 'JJ'), ('i like to transfer them to a zip lock baggie so they stay fresh so i can take my time eating them.', 'NN'), (\"right now i'm mostly just sprouting this so my cats can eat the grass.\", 'NN'), ('if you are familiar with the story of c.s.', 'NN'), ('i love these twizzlers!', 'NN'), ('if you are looking for the secret ingredient in robitussin i believe i have found it.', 'NN'), (\"we've bought these many times from amazon because we're government employees living overseas and can't get them in the country we are assigned to.\", 'NN'), ('not sure if this was an error or if the vendor intended to represent the product as \"jumbo\".', 'JJ'), ('very satisfying!', 'JJ'), ('product received is as advertised.twizzlers, strawberry, 16-ounce bags (pack of 6)', 'JJ'), ('i need them for my garage door opener.great deal for the price.', 'NN'), ('my dog eats her required amount at every feeding.', 'NN'), ('i am very satisfied with my twizzler purchase.', 'JJ'), ('good flavor!', 'JJ'), ('this record-breaking twist became a guinness world record on july 19, 1998.', 'JJ'), ('twizzlers, strawberry, 16-ounce bags (pack of 6)', 'JJ'), ('and it is a tiny mouthful of heaven.', 'NN'), ('i was home bound and unable to get to a store so this was perfect for me.', 'NN'), ('they love it.', 'JJ'), ('i put this food on the floor for the chubby guy, and the protein-rich, no by-product food up higher where only my skinny boy can jump.', 'JJ'), ('the strawberry twizzlers are my guilty pleasure - yummy.', 'JJ'), ('this saltwater taffy had great flavors and was very soft and chewy.', 'NN'), ('it is a light, pillowy citrus gelatin with nuts - in this case filberts.', 'JJ'), (\"it's exactly what you would expect...six packages of strawberry twizzlers.\", 'NN'), ('each candy was individually wrapped well.', 'NN'), ('just realize that once you taste it, you will never want to use any other sauce.thank you for the personal, incredible service!', 'NN'), ('the flavors are amazing.', 'NN'), ('i shared these with others and we have all enjoyed them.', 'NN'), ('just  plan and chewy .', 'NN'), ('this taffy is so good.', 'NN'), (\"i can remember buying this candy as a kid and the quality hasn't dropped in all these years.\", 'NN'), (\"i don't know if it's the cactus or the tequila or just the unique combination of ingredients, but the flavour of this hot sauce makes it one of a kind!\", 'NN'), ('the product looks more like a stew than a processed meat and it smells better.', 'NN'), (\"none of the candies were stuck together, which did happen in the expensive version, fralinger's.\", 'JJ'), ('unfortunately, i now need to find a new food that my cats will eat.', 'JJ'), (\"i was so impressed that i've ordered some for myself (w dark chocolate) to take to the office so i'll eat them instead of snacking on sugary sweets.these are just excellent!\", 'NN'), (\"all i can say is yum!sell these in mexico and you will have a faithful buyer, more often than i'm able to buy them right now.\", 'NN'), ('my cats have been happily eating felidae platinum for more than two years.', 'NN'), ('after weight watchers i had to cut back but still have a craving for it.', 'NN'), ('the higher food sits going stale.', 'NN'), ('six pounds will be around for a while with my son and i.', 'NN'), ('i would definitely recommend you buying it.', 'NN'), ('these came securely packed... they were fresh and delicious!', 'NN'), ('i have bought several of the vitality canned dog food products and have found them all to be of good quality.', 'NN'), ('i have lived out of the us for over 7 yrs now, and i so miss my twizzlers!!', 'NN'), ('i will definitely be ordering more.', 'NN'), ('there was a wide assortment of yummy taffy.', 'NN'), ('the candy is just red , no flavor .', 'IN'), ('i served it at a beach-themed party and everyone loved it!', 'JJ'), ('great taffy at a great price.', 'NN'), ('when i go back to visit or someone visits me, i always stock up.', 'IN'), ('i would recommend this brand of taffy -- it was a delightful treat.', 'JJ'), ('would highly recommend this candy!', 'NN'), ('i got a wild hair for taffy and ordered this five pound bag.', 'NN'), ('i rotate it around with wheatgrass and rye too', 'NN'), ('twizzlers, strawberry my childhood favorite candy, made in lancaster pennsylvania by y & s candies, inc. one of the oldest confectionery firms in the united states, now a subsidiary of the hershey company, the company was established in 1845 as young and smylie, they also make apple licorice twists, green color and blue raspberry licorice twists, i like them alli keep it in a dry cool place because is not recommended it to put it in the fridge.', 'JJ'), ('i love this candy.', 'JJ'), ('not too chewy, and very flavorful.', 'JJ'), ('he loves these, and apparently his staff likes them also.there are generous amounts of twizzlers in each 16-ounce bag, and this was well worth the price.', 'JJ'), ('and it is cut into tiny squares and then liberally coated with powdered sugar.', 'NN'), ('i love eating them and they are good for watching tv and looking at movies!', 'JJ'), ('lewis\\' \"the lion, the witch, and the wardrobe\" - this is the treat that seduces edmund into selling out his brother and sisters to the witch.', 'JJ'), ('according to the guinness book of records, the longest licorice twist ever made measured 1.200 feet (370 m) and weighted 100 pounds (45 kg) and was made by y & s candies, inc.', 'NN'), ('it is very soft and chewy.', 'NN'), ('delivery was very quick.', 'NN'), ('i just got a new bag and the shape of the food is different.', 'NN'), (\"one of my boys needed to lose some weight and the other didn't.\", 'NN'), (\"they've always been fresh and tasty, packed well and arrive in a timely manner.\", 'NN'), ('also good for small puppies.', 'NN'), ('if your a taffy lover, this is a deal.', 'NN'), ('thank you', 'NN'), ('this is a very healthy dog food.', 'VBP'), ('they both really go for this food.', 'NN'), ('we picked up a bottle once on a trip we were on and brought it back home with us and were totally blown away!', 'NN'), ('my husband is a twizzlers addict.', 'NN'), ('this product is kosher!', 'NN'), (\"when we realized that we simply couldn't find it anywhere in our city we were bummed.now, because of the magic of the internet, we have a case of the sauce and are ecstatic because of it.if you love hot sauce..i mean really love hot sauce, but don't want a sauce that tastelessly burns your throat, grab a bottle of tequila picante gourmet de inclan.\", 'NN'), ('my daughter loves twizzlers and this shipment of six pounds really hit the spot.', 'NN'), ('i bought these for my husband who is currently overseas.', 'NN'), ('candy was delivered very fast and was purchased at a reasonable price.', 'NN'), ('i got this in addition to the root beer extract i ordered (which was good) and made some cherry soda.', 'NN'), ('good for their digestion.', 'NN'), ('it is not too sweet.', 'NN'), ('this is a confection that has been around a few centuries.', 'NN'), ('product arrived labeled as jumbo salted peanuts...the peanuts were actually small sized unsalted.', 'NN'), ('the taffy was all very enjoyable with many flavors: watermelon, root beer, melon, peppermint, grape, etc.', 'NN'), ('they tried the new food when i first put it in their bowls and now the bowls sit full and the kitties will not touch the food.', 'NN'), ('and my chubby boy has been losing about an ounce a week.', 'JJ'), (\"i've noticed similar reviews related to formula changes in the past.\", 'NN'), ('i would never buy them again', 'NN'), ('my labrador is finicky and she appreciates this product better than  most.', 'JJ'), ('i have a hard time finding them elsewhere because they are such a unique size.', 'JJ'), ('my only complaint is there was a bit too much red/black licorice-flavored pieces (just not my particular favorites).', 'JJ'), (\"still a superb product you won't be disappointed with.\", 'NN'), ('i was so glad amazon carried these batteries.', 'NN')]\n"
     ]
    }
   ],
   "source": [
    "pos_tag = nltk.pos_tag(corpus_primeros_100)\n",
    "print(pos_tag)"
   ]
  },
  {
   "cell_type": "markdown",
   "metadata": {},
   "source": [
    "## 7\n",
    "<li style =\"margin: 12px 0px;\">\n",
    "<p style=\"font-size:16px\" > Usando la libreria incorporada en nltk, implemente Named Entity Recognition (NER) con Stanford NER Tagger. Analice y describa sus resultados. </p></li>"
   ]
  },
  {
   "cell_type": "code",
   "execution_count": 51,
   "metadata": {
    "collapsed": false
   },
   "outputs": [],
   "source": [
    "from nltk.tag import StanfordNERTagger\n",
    "\n",
    "st = StanfordNERTagger('../stanford-ner-2016-10-31/classifiers/english.all.3class.distsim.crf.ser.gz', '../stanford-ner-2016-10-31/stanford-ner.jar', encoding='utf-8')\n",
    "\n",
    "corpus_ner_tagger = st.tag(corpus_primeros_100)"
   ]
  },
  {
   "cell_type": "code",
   "execution_count": 52,
   "metadata": {
    "collapsed": false
   },
   "outputs": [
    {
     "name": "stdout",
     "output_type": "stream",
     "text": [
      "[('i', 'O'), ('highly', 'O'), ('recommend', 'O'), ('this', 'O'), ('yummy', 'O'), ('treat.', 'O'), ('!', 'O'), ('between', 'O'), ('me,', 'O'), ('my', 'O'), ('kids,', 'O'), ('and', 'O'), ('my', 'O'), ('husband,', 'O'), ('this', 'O'), ('lasted', 'O'), ('only', 'O'), ('two', 'O'), ('weeks!', 'O'), ('the', 'O'), ('flavor', 'O'), ('is', 'O'), ('very', 'O'), ('medicinal.', 'O'), ('i', 'O'), ('got', 'O'), ('this', 'O'), ('for', 'O'), ('my', 'O'), ('mum', 'O'), ('who', 'O'), ('is', 'O'), ('not', 'O'), ('diabetic', 'O'), ('but', 'O'), ('needs', 'O'), ('to', 'O'), ('watch', 'O'), ('her', 'O'), ('sugar', 'O'), ('intake,', 'O'), ('and', 'O'), ('my', 'O'), ('father', 'O'), ('who', 'O'), ('simply', 'O'), ('chooses', 'O'), ('to', 'O'), ('limit', 'O'), ('unnecessary', 'O'), ('sugar', 'O'), ('intake', 'O'), ('-', 'O'), (\"she's\", 'O'), ('the', 'O'), ('one', 'O'), ('with', 'O'), ('the', 'O'), ('sweet', 'O'), ('tooth', 'O'), ('-', 'O'), ('they', 'O'), ('both', 'O'), ('loved', 'O'), ('these', 'O'), ('toffees,', 'O'), ('you', 'O'), ('would', 'O'), ('never', 'O'), ('guess', 'O'), ('that', 'O'), (\"they're\", 'O'), ('sugar-free', 'O'), ('and', 'O'), (\"it's\", 'O'), ('so', 'O'), ('great', 'O'), ('that', 'O'), ('you', 'O'), ('can', 'O'), ('eat', 'O'), ('them', 'O'), ('pretty', 'O'), ('much', 'O'), ('guilt', 'O'), ('free!', 'O'), ('i', 'O'), ('like', 'O'), ('to', 'O'), ('transfer', 'O'), ('them', 'O'), ('to', 'O'), ('a', 'O'), ('zip', 'O'), ('lock', 'O'), ('baggie', 'O'), ('so', 'O'), ('they', 'O'), ('stay', 'O')]\n"
     ]
    }
   ],
   "source": [
    "print(corpus_ner_tagger)"
   ]
  },
  {
   "cell_type": "code",
   "execution_count": 44,
   "metadata": {
    "collapsed": false
   },
   "outputs": [
    {
     "name": "stdout",
     "output_type": "stream",
     "text": [
      "(S\n",
      "  meat/NN\n",
      "  lewis/NN\n",
      "  edmund/NN\n",
      "  soda/NN\n",
      "  vendor/NN\n",
      "  medicinal/JJ\n",
      "  product/NN\n",
      "  peanuts/NNS\n",
      "  bought/VBD\n",
      "  taffy/JJ\n",
      "  robitussin/NN\n",
      "  beer/NN\n",
      "  liberally/RB\n",
      "  actually/RB\n",
      "  stew/JJ\n",
      "  citrus/NN\n",
      "  brother/NN\n",
      "  quality/NN\n",
      "  represent/VBP\n",
      "  sure/RB\n",
      "  small/JJ\n",
      "  pillowy/JJ\n",
      "  addition/NN\n",
      "  highly/RB\n",
      "  looking/VBG\n",
      "  ingredient/NN\n",
      "  secret/JJ\n",
      "  witch/NN\n",
      "  cut/NN\n",
      "  food/NN\n",
      "  labeled/VBN\n",
      "  confection/NN\n",
      "  sized/VBN\n",
      "  ordered/VBD\n",
      "  labrador/JJ\n",
      "  appreciates/NNS\n",
      "  heaven/VBP\n",
      "  around/IN\n",
      "  sisters/NNS\n",
      "  error/VBP\n",
      "  lion/NN\n",
      "  arrived/VBN\n",
      "  believe/VBP\n",
      "  got/VBN\n",
      "  powdered/JJ\n",
      "  root/NN\n",
      "  smells/VBZ\n",
      "  mouthful/JJ\n",
      "  light/JJ\n",
      "  products/NNS\n",
      "  vitality/NN\n",
      "  nuts/RB\n",
      "  salted/VBN\n",
      "  like/IN\n",
      "  good/JJ\n",
      "  intended/VBN\n",
      "  unsalted/JJ\n",
      "  squares/NNS\n",
      "  finicky/JJ\n",
      "  cherry/VBP\n",
      "  sugar/JJ\n",
      "  story/NN\n",
      "  canned/VBN\n",
      "  recommend/NN\n",
      "  made/VBN\n",
      "  gelatin/JJ\n",
      "  several/JJ\n",
      "  treat/NN\n",
      "  case/NN\n",
      "  found/VBD\n",
      "  better/JJR\n",
      "  dog/NN\n",
      "  processed/VBD\n",
      "  great/JJ\n",
      "  coated/JJ\n",
      "  wardrobe/NN\n",
      "  flavor/NN\n",
      "  flavorful/NN\n",
      "  familiar/JJ\n",
      "  centuries/NNS\n",
      "  tiny/JJ\n",
      "  chewy/JJ\n",
      "  extract/NN\n",
      "  yummy/JJ\n",
      "  jumbo/JJ\n",
      "  filberts/NNS\n",
      "  selling/VBG\n",
      "  looks/NNS)\n"
     ]
    }
   ],
   "source": [
    "ner_tag = nltk.ne_chunk(pos_tag)\n",
    "print(ner_tag)"
   ]
  },
  {
   "cell_type": "markdown",
   "metadata": {},
   "source": [
    "# 8\n",
    "<li style =\"margin: 12px 0px;\">\n",
    "<p style=\"font-size:16px\" > <strong> Sentiment Analysis </strong>: Implemente usando la libreria <i>Vader</i> incorporada en nltk para analizar la polaridad del corpus ,determinar cada documento (para ello es necesario re-estructurar el corpus como un array de documentos, o sentencias):</p>\n",
    "<ol>\n",
    "<li> Tokenizar el corpus a nivel de sentencia (recuerde incorporar el preprocesamiento previo).</li>\n",
    "<li> Para cada sentencias (reseña) , implemente Vader para determinar la polaridad.</li>\n",
    "</ol>\n",
    "</li>"
   ]
  },
  {
   "cell_type": "code",
   "execution_count": 55,
   "metadata": {
    "collapsed": false
   },
   "outputs": [],
   "source": [
    "from nltk.sentiment.vader import SentimentIntensityAnalyzer"
   ]
  },
  {
   "cell_type": "code",
   "execution_count": 57,
   "metadata": {
    "collapsed": false
   },
   "outputs": [
    {
     "name": "stdout",
     "output_type": "stream",
     "text": [
      "i have bought several of the vitality canned dog food products and have found them all to be of good quality.\n",
      "compound: 0.6369, neg: 0.0, neu: 0.776, pos: 0.224, \n",
      "the product looks more like a stew than a processed meat and it smells better.\n",
      "compound: 0.6901, neg: 0.0, neu: 0.659, pos: 0.341, \n",
      "my labrador is finicky and she appreciates this product better than  most.\n",
      "compound: 0.7351, neg: 0.0, neu: 0.617, pos: 0.383, \n",
      "product arrived labeled as jumbo salted peanuts...the peanuts were actually small sized unsalted.\n",
      "compound: 0.0, neg: 0.0, neu: 1.0, pos: 0.0, \n",
      "not sure if this was an error or if the vendor intended to represent the product as \"jumbo\".\n",
      "compound: -0.5664, neg: 0.226, neu: 0.774, pos: 0.0, \n",
      "this is a confection that has been around a few centuries.\n",
      "compound: 0.0, neg: 0.0, neu: 1.0, pos: 0.0, \n",
      "it is a light, pillowy citrus gelatin with nuts - in this case filberts.\n",
      "compound: -0.3182, neg: 0.173, neu: 0.827, pos: 0.0, \n",
      "and it is cut into tiny squares and then liberally coated with powdered sugar.\n",
      "compound: -0.2732, neg: 0.139, neu: 0.861, pos: 0.0, \n",
      "and it is a tiny mouthful of heaven.\n",
      "compound: 0.5106, neg: 0.0, neu: 0.645, pos: 0.355, \n",
      "not too chewy, and very flavorful.\n",
      "compound: 0.0, neg: 0.0, neu: 1.0, pos: 0.0, \n",
      "i highly recommend this yummy treat.\n",
      "compound: 0.8696, neg: 0.0, neu: 0.169, pos: 0.831, \n",
      "if you are familiar with the story of c.s.\n",
      "compound: 0.0, neg: 0.0, neu: 1.0, pos: 0.0, \n",
      "lewis' \"the lion, the witch, and the wardrobe\" - this is the treat that seduces edmund into selling out his brother and sisters to the witch.\n",
      "compound: -0.3182, neg: 0.168, neu: 0.741, pos: 0.091, \n",
      "if you are looking for the secret ingredient in robitussin i believe i have found it.\n",
      "compound: 0.0, neg: 0.0, neu: 1.0, pos: 0.0, \n",
      "i got this in addition to the root beer extract i ordered (which was good) and made some cherry soda.\n",
      "compound: 0.0, neg: 0.0, neu: 1.0, pos: 0.0, \n",
      "the flavor is very medicinal.\n",
      "compound: 0.0, neg: 0.0, neu: 1.0, pos: 0.0, \n",
      "great taffy at a great price.\n",
      "compound: 0.8481, neg: 0.0, neu: 0.268, pos: 0.732, \n",
      "there was a wide assortment of yummy taffy.\n",
      "compound: 0.5267, neg: 0.0, neu: 0.638, pos: 0.362, \n",
      "delivery was very quick.\n",
      "compound: 0.0, neg: 0.0, neu: 1.0, pos: 0.0, \n",
      "if your a taffy lover, this is a deal.\n",
      "compound: 0.5859, neg: 0.0, neu: 0.612, pos: 0.388, \n",
      "i got a wild hair for taffy and ordered this five pound bag.\n",
      "compound: 0.0, neg: 0.0, neu: 1.0, pos: 0.0, \n",
      "the taffy was all very enjoyable with many flavors: watermelon, root beer, melon, peppermint, grape, etc.\n",
      "compound: 0.4927, neg: 0.0, neu: 0.824, pos: 0.176, \n",
      "my only complaint is there was a bit too much red/black licorice-flavored pieces (just not my particular favorites).\n",
      "compound: -0.296, neg: 0.121, neu: 0.879, pos: 0.0, \n",
      "between me, my kids, and my husband, this lasted only two weeks!\n",
      "compound: 0.0, neg: 0.0, neu: 1.0, pos: 0.0, \n",
      "i would recommend this brand of taffy -- it was a delightful treat.\n",
      "compound: 0.8402, neg: 0.0, neu: 0.471, pos: 0.529, \n",
      "this saltwater taffy had great flavors and was very soft and chewy.\n",
      "compound: 0.6249, neg: 0.0, neu: 0.728, pos: 0.272, \n",
      "each candy was individually wrapped well.\n",
      "compound: 0.2732, neg: 0.0, neu: 0.704, pos: 0.296, \n",
      "none of the candies were stuck together, which did happen in the expensive version, fralinger's.\n",
      "compound: -0.25, neg: 0.125, neu: 0.875, pos: 0.0, \n",
      "would highly recommend this candy!\n",
      "compound: 0.474, neg: 0.0, neu: 0.565, pos: 0.435, \n",
      "i served it at a beach-themed party and everyone loved it!\n",
      "compound: 0.784, neg: 0.0, neu: 0.504, pos: 0.496, \n",
      "this taffy is so good.\n",
      "compound: 0.5777, neg: 0.0, neu: 0.517, pos: 0.483, \n",
      "it is very soft and chewy.\n",
      "compound: 0.0, neg: 0.0, neu: 1.0, pos: 0.0, \n",
      "the flavors are amazing.\n",
      "compound: 0.5859, neg: 0.0, neu: 0.441, pos: 0.559, \n",
      "i would definitely recommend you buying it.\n",
      "compound: 0.6369, neg: 0.0, neu: 0.435, pos: 0.565, \n",
      "very satisfying!\n",
      "compound: 0.5551, neg: 0.0, neu: 0.218, pos: 0.782, \n",
      "!\n",
      "compound: 0.0, neg: 0.0, neu: 0.0, pos: 0.0, \n",
      "right now i'm mostly just sprouting this so my cats can eat the grass.\n",
      "compound: 0.0, neg: 0.0, neu: 1.0, pos: 0.0, \n",
      "they love it.\n",
      "compound: 0.6369, neg: 0.0, neu: 0.323, pos: 0.677, \n",
      "i rotate it around with wheatgrass and rye too\n",
      "compound: 0.0, neg: 0.0, neu: 1.0, pos: 0.0, \n",
      "this is a very healthy dog food.\n",
      "compound: 0.4576, neg: 0.0, neu: 0.626, pos: 0.374, \n",
      "good for their digestion.\n",
      "compound: 0.4404, neg: 0.0, neu: 0.508, pos: 0.492, \n",
      "also good for small puppies.\n",
      "compound: 0.4404, neg: 0.0, neu: 0.58, pos: 0.42, \n",
      "my dog eats her required amount at every feeding.\n",
      "compound: 0.0, neg: 0.0, neu: 1.0, pos: 0.0, \n",
      "i don't know if it's the cactus or the tequila or just the unique combination of ingredients, but the flavour of this hot sauce makes it one of a kind!\n",
      "compound: 0.7088, neg: 0.0, neu: 0.847, pos: 0.153, \n",
      "we picked up a bottle once on a trip we were on and brought it back home with us and were totally blown away!\n",
      "compound: 0.0, neg: 0.0, neu: 1.0, pos: 0.0, \n",
      "when we realized that we simply couldn't find it anywhere in our city we were bummed.now, because of the magic of the internet, we have a case of the sauce and are ecstatic because of it.if you love hot sauce..i mean really love hot sauce, but don't want a sauce that tastelessly burns your throat, grab a bottle of tequila picante gourmet de inclan.\n",
      "compound: 0.7199, neg: 0.02, neu: 0.868, pos: 0.112, \n",
      "just realize that once you taste it, you will never want to use any other sauce.thank you for the personal, incredible service!\n",
      "compound: -0.1316, neg: 0.067, neu: 0.933, pos: 0.0, \n",
      "one of my boys needed to lose some weight and the other didn't.\n",
      "compound: -0.4019, neg: 0.184, neu: 0.816, pos: 0.0, \n",
      "i put this food on the floor for the chubby guy, and the protein-rich, no by-product food up higher where only my skinny boy can jump.\n",
      "compound: -0.296, neg: 0.084, neu: 0.916, pos: 0.0, \n",
      "the higher food sits going stale.\n",
      "compound: 0.0, neg: 0.0, neu: 1.0, pos: 0.0, \n",
      "they both really go for this food.\n",
      "compound: 0.0, neg: 0.0, neu: 1.0, pos: 0.0, \n",
      "and my chubby boy has been losing about an ounce a week.\n",
      "compound: -0.3818, neg: 0.206, neu: 0.794, pos: 0.0, \n",
      "my cats have been happily eating felidae platinum for more than two years.\n",
      "compound: 0.5574, neg: 0.0, neu: 0.769, pos: 0.231, \n",
      "i just got a new bag and the shape of the food is different.\n",
      "compound: 0.0, neg: 0.0, neu: 1.0, pos: 0.0, \n",
      "they tried the new food when i first put it in their bowls and now the bowls sit full and the kitties will not touch the food.\n",
      "compound: 0.0, neg: 0.0, neu: 1.0, pos: 0.0, \n",
      "i've noticed similar reviews related to formula changes in the past.\n",
      "compound: 0.0, neg: 0.0, neu: 1.0, pos: 0.0, \n",
      "unfortunately, i now need to find a new food that my cats will eat.\n",
      "compound: -0.34, neg: 0.179, neu: 0.821, pos: 0.0, \n",
      "good flavor!\n",
      "compound: 0.4926, neg: 0.0, neu: 0.239, pos: 0.761, \n",
      "these came securely packed... they were fresh and delicious!\n",
      "compound: 0.8268, neg: 0.0, neu: 0.408, pos: 0.592, \n",
      "i love these twizzlers!\n",
      "compound: 0.6696, neg: 0.0, neu: 0.308, pos: 0.692, \n",
      "the strawberry twizzlers are my guilty pleasure - yummy.\n",
      "compound: 0.6486, neg: 0.188, neu: 0.336, pos: 0.477, \n",
      "six pounds will be around for a while with my son and i.\n",
      "compound: 0.0, neg: 0.0, neu: 1.0, pos: 0.0, \n",
      "my daughter loves twizzlers and this shipment of six pounds really hit the spot.\n",
      "compound: 0.5719, neg: 0.0, neu: 0.778, pos: 0.222, \n",
      "it's exactly what you would expect...six packages of strawberry twizzlers.\n",
      "compound: 0.0, neg: 0.0, neu: 1.0, pos: 0.0, \n",
      "i love eating them and they are good for watching tv and looking at movies!\n",
      "compound: 0.8122, neg: 0.0, neu: 0.619, pos: 0.381, \n",
      "it is not too sweet.\n",
      "compound: -0.357, neg: 0.383, neu: 0.617, pos: 0.0, \n",
      "i like to transfer them to a zip lock baggie so they stay fresh so i can take my time eating them.\n",
      "compound: 0.6204, neg: 0.0, neu: 0.77, pos: 0.23, \n",
      "i am very satisfied with my twizzler purchase.\n",
      "compound: 0.4754, neg: 0.0, neu: 0.66, pos: 0.34, \n",
      "i shared these with others and we have all enjoyed them.\n",
      "compound: 0.6908, neg: 0.0, neu: 0.584, pos: 0.416, \n",
      "i will definitely be ordering more.\n",
      "compound: 0.4019, neg: 0.0, neu: 0.597, pos: 0.403, \n",
      "twizzlers, strawberry my childhood favorite candy, made in lancaster pennsylvania by y & s candies, inc. one of the oldest confectionery firms in the united states, now a subsidiary of the hershey company, the company was established in 1845 as young and smylie, they also make apple licorice twists, green color and blue raspberry licorice twists, i like them alli keep it in a dry cool place because is not recommended it to put it in the fridge.\n",
      "compound: 0.8405, neg: 0.02, neu: 0.846, pos: 0.134, \n",
      "according to the guinness book of records, the longest licorice twist ever made measured 1.200 feet (370 m) and weighted 100 pounds (45 kg) and was made by y & s candies, inc.\n",
      "compound: 0.0, neg: 0.0, neu: 1.0, pos: 0.0, \n",
      "this record-breaking twist became a guinness world record on july 19, 1998.\n",
      "compound: 0.0, neg: 0.0, neu: 1.0, pos: 0.0, \n",
      "this product is kosher!\n",
      "compound: 0.0, neg: 0.0, neu: 1.0, pos: 0.0, \n",
      "thank you\n",
      "compound: 0.3612, neg: 0.0, neu: 0.286, pos: 0.714, \n",
      "candy was delivered very fast and was purchased at a reasonable price.\n",
      "compound: 0.0, neg: 0.0, neu: 1.0, pos: 0.0, \n",
      "i was home bound and unable to get to a store so this was perfect for me.\n",
      "compound: 0.6077, neg: 0.0, neu: 0.779, pos: 0.221, \n",
      "my husband is a twizzlers addict.\n",
      "compound: 0.0, neg: 0.0, neu: 1.0, pos: 0.0, \n",
      "we've bought these many times from amazon because we're government employees living overseas and can't get them in the country we are assigned to.\n",
      "compound: 0.1779, neg: 0.0, neu: 0.931, pos: 0.069, \n",
      "they've always been fresh and tasty, packed well and arrive in a timely manner.\n",
      "compound: 0.5267, neg: 0.0, neu: 0.714, pos: 0.286, \n",
      "i bought these for my husband who is currently overseas.\n",
      "compound: 0.0, neg: 0.0, neu: 1.0, pos: 0.0, \n",
      "he loves these, and apparently his staff likes them also.there are generous amounts of twizzlers in each 16-ounce bag, and this was well worth the price.\n",
      "compound: 0.9153, neg: 0.0, neu: 0.603, pos: 0.397, \n",
      "twizzlers, strawberry, 16-ounce bags (pack of 6)\n",
      "compound: 0.0, neg: 0.0, neu: 1.0, pos: 0.0, \n",
      "i can remember buying this candy as a kid and the quality hasn't dropped in all these years.\n",
      "compound: 0.0, neg: 0.0, neu: 1.0, pos: 0.0, \n",
      "still a superb product you won't be disappointed with.\n",
      "compound: 0.7687, neg: 0.0, neu: 0.474, pos: 0.526, \n",
      "i love this candy.\n",
      "compound: 0.6369, neg: 0.0, neu: 0.323, pos: 0.677, \n",
      "after weight watchers i had to cut back but still have a craving for it.\n",
      "compound: -0.1406, neg: 0.114, neu: 0.886, pos: 0.0, \n",
      "i have lived out of the us for over 7 yrs now, and i so miss my twizzlers!!\n",
      "compound: -0.402, neg: 0.162, neu: 0.838, pos: 0.0, \n",
      "when i go back to visit or someone visits me, i always stock up.\n",
      "compound: 0.0, neg: 0.0, neu: 1.0, pos: 0.0, \n",
      "all i can say is yum!sell these in mexico and you will have a faithful buyer, more often than i'm able to buy them right now.\n",
      "compound: 0.4926, neg: 0.0, neu: 0.878, pos: 0.122, \n",
      "product received is as advertised.twizzlers, strawberry, 16-ounce bags (pack of 6)\n",
      "compound: 0.0, neg: 0.0, neu: 1.0, pos: 0.0, \n",
      "the candy is just red , no flavor .\n",
      "compound: -0.296, neg: 0.268, neu: 0.732, pos: 0.0, \n",
      "just  plan and chewy .\n",
      "compound: 0.0, neg: 0.0, neu: 1.0, pos: 0.0, \n",
      "i would never buy them again\n",
      "compound: 0.0, neg: 0.0, neu: 1.0, pos: 0.0, \n",
      "i was so glad amazon carried these batteries.\n",
      "compound: 0.6453, neg: 0.0, neu: 0.487, pos: 0.513, \n",
      "i have a hard time finding them elsewhere because they are such a unique size.\n",
      "compound: -0.1027, neg: 0.113, neu: 0.887, pos: 0.0, \n",
      "i need them for my garage door opener.great deal for the price.\n",
      "compound: 0.0, neg: 0.0, neu: 1.0, pos: 0.0, \n",
      "i got this for my mum who is not diabetic but needs to watch her sugar intake, and my father who simply chooses to limit unnecessary sugar intake - she's the one with the sweet tooth - they both loved these toffees, you would never guess that they're sugar-free and it's so great that you can eat them pretty much guilt free!\n",
      "compound: 0.9801, neg: 0.033, neu: 0.651, pos: 0.316, \n",
      "i was so impressed that i've ordered some for myself (w dark chocolate) to take to the office so i'll eat them instead of snacking on sugary sweets.these are just excellent!\n",
      "compound: 0.8118, neg: 0.0, neu: 0.791, pos: 0.209, \n",
      "i don't know if it's the cactus or the tequila or just the unique combination of ingredients, but the flavour of this hot sauce makes it one of a kind!\n",
      "compound: 0.7088, neg: 0.0, neu: 0.847, pos: 0.153, \n"
     ]
    }
   ],
   "source": [
    "sid = SentimentIntensityAnalyzer()\n",
    "for sentence in corpus_sent_tokenize[0:100]:\n",
    "    print(sentence)\n",
    "    ss = sid.polarity_scores(sentence)\n",
    "    for k in sorted(ss):\n",
    "        print('{0}: {1}, '.format(k, ss[k]), end='')\n",
    "    print()"
   ]
  },
  {
   "cell_type": "markdown",
   "metadata": {
    "collapsed": true
   },
   "source": []
  },
  {
   "cell_type": "markdown",
   "metadata": {},
   "source": [
    "<h2>Notas</h2>\n",
    "<ul>\n",
    "<li style =\"margin: 12px 0px; font-size: 16px\" >\n",
    "Para varias etapas del preprocesamiento, usará diferentes librerias disponibles en Python. Se recomienda usar el instalador de paquetes <i>pip</i> ( link: https://pypi.python.org/pypi/pip ) .\n",
    "</li>\n",
    "<li style =\"margin: 12px 0px; font-size: 16px\" >\n",
    "Algunos de estos pasos del preprocesamiento pueden demorar en compilar (en algunos casos sobre 45 min, dependiendo de la máquina), por lo que es recomendable ir guardando el estado del corpus su posterior uso. Para estos casos se recomienda usar la libreria <code> pickle </code> en python (link: https://docs.python.org/2/library/pickle.html ) \n",
    "</li>\n",
    "</ul>\n",
    "\n"
   ]
  },
  {
   "cell_type": "markdown",
   "metadata": {},
   "source": [
    "<h2>Documentación y Ejemplos</h2>\n",
    "<ul>\n",
    "<li style =\"margin: 12px 0px;\" >\n",
    "Beautiful Soup :\n",
    "https://www.crummy.com/software/BeautifulSoup/\n",
    "</li>\n",
    "<li style =\"margin: 12px 0px;\" >\n",
    "Bigrams and Collocations:\n",
    "http://www.nltk.org/howto/collocations.html\n",
    "</li>\n",
    "<li style =\"margin: 12px 0px;\" >\n",
    "Stanford PoS Tagger :\n",
    "http://www.nltk.org/api/nltk.tag.html#module-nltk.tag.stanford\n",
    "</li>\n",
    "<li>\n",
    "Stanford 'Tagger' Link Download : https://nlp.stanford.edu/software/tagger.shtml#Download\n",
    "</li>\n",
    "<li style =\"margin: 12px 0px;\" >\n",
    "Stanford Ner Tagger:\n",
    "https://pythonprogramming.net/named-entity-recognition-stanford-ner-tagger/\n",
    "</li>\n",
    "<li style =\"margin: 12px 0px;\" >\n",
    "Sentiment Analysis with Vader: \n",
    "http://www.nltk.org/howto/sentiment.html\n",
    "</li>\n",
    "\n",
    "</ul>"
   ]
  },
  {
   "cell_type": "markdown",
   "metadata": {},
   "source": [
    "<h2>Instrucciones</h2>"
   ]
  },
  {
   "cell_type": "markdown",
   "metadata": {},
   "source": [
    "<ol >\n",
    "<li style =\"margin: 12px 0px;\" >\n",
    "<p style=\"font-size:16px\" > El informe debe entregarse en un archivo jupyter notebook (diferente a este) con el código  implementado y los análisis correspondientes. El informe debe subirse en la plataforma oficial de moodle en formato comprimido (.zip) con el nombre <i>tarea1_rol.zip</i></p> </li>\n",
    "\n",
    "<li style =\"margin: 12px 0px;\" >\n",
    "<p style=\"font-size:16px\" > Todas las consultas serán atendidas por el canal de consultas de moodle. </i></p> </li>\n",
    "\n",
    "<li style =\"margin: 12px 0px;\" >\n",
    "<p style=\"font-size:16px\" > La fecha de entrega es el dia <strong>10 de Abril</strong> . Pasada esa fecha se descontaran 20 puntos por dia. </p> </li>\n",
    "\n",
    "\n",
    "</ol>"
   ]
  },
  {
   "cell_type": "code",
   "execution_count": null,
   "metadata": {
    "collapsed": true
   },
   "outputs": [],
   "source": []
  }
 ],
 "metadata": {
  "kernelspec": {
   "display_name": "Python 3",
   "language": "python",
   "name": "python3"
  },
  "language_info": {
   "codemirror_mode": {
    "name": "ipython",
    "version": 3
   },
   "file_extension": ".py",
   "mimetype": "text/x-python",
   "name": "python",
   "nbconvert_exporter": "python",
   "pygments_lexer": "ipython3",
   "version": "3.6.0"
  }
 },
 "nbformat": 4,
 "nbformat_minor": 2
}
