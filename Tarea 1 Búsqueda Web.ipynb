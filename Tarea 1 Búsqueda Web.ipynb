{
 "cells": [
  {
   "cell_type": "markdown",
   "metadata": {
    "deletable": true,
    "editable": true
   },
   "source": [
    "\n",
    "\n",
    "<center>\n",
    "    <h1> INF335 - Tecnologías de Búsqueda Web   </h1>\n",
    "    <h2> Tarea 1 </h2>\n",
    "    <h3> Universidad Técnica Federico Santa Maria </h3>\n",
    "    \n",
    "</center>\n",
    "\n",
    "_Marzo 2017_\n",
    "<p>Profesor: Marcelo Mendoza</p>\n",
    " <p>Ayudante: Daniel Rivera</p>\n"
   ]
  },
  {
   "cell_type": "markdown",
   "metadata": {},
   "source": [
    "<h2> Objetivos </h2>\n",
    "<ul>\n",
    "<li  style =\"margin: 12px 0px; font-size:16px\"> Implementar y analizar la herramienta de python NLTK (Natural Language Tookit) para trabajar con procesamiento de texto y lenguaje natural. </li>\n",
    "<li style =\"margin: 12px 0px;font-size:16px \" > Estudiar e implementar las estructuras de datos adecuadas para representar un corpus, documentos y palabras con su categorización correspondiente.</li>\n",
    "</ul>"
   ]
  },
  {
   "cell_type": "markdown",
   "metadata": {
    "deletable": true,
    "editable": true
   },
   "source": [
    "<h2>Dataset : Amazon Fine Food Review</h2>\n",
    "\n",
    "<p style=\"font-size:16px\"> Para esta tarea se va a trabajar con el dataset de <i>“Amazon Fine Food Review”</i> el cual contiene más de 500.000 críticas de platos de comida y restaurants provenientes de Amazon. El archivo consiste en un .csv (“Comma Separate Values”) el cual contiene la siguiente estructura:</p>"
   ]
  },
  {
   "cell_type": "markdown",
   "metadata": {
    "collapsed": true,
    "deletable": true,
    "editable": true
   },
   "source": [
    "<ol>\n",
    "<li style =\"margin: 5px 0px;\"> <strong>Id</strong> - Id único de cada reseña</li>\n",
    "<li style =\"margin: 8px 0px;\"><strong> ProductId</strong> - Id único que identifica el producto a analizar</li>\n",
    "<li style =\"margin: 8px 0px;\"><strong>UserId</strong> - Id único que identifica al usuario</li>\n",
    "<li style =\"margin: 8px 0px;\" ><strong>ProfileName</strong> - Nombre del usuario que realizó la reseña</li>\n",
    "<li style =\"margin: 8px 0px;\"><strong>HelpfulnessNumerator</strong> -  número de usuarios que indicaron que encontraron esta crítica util</li>\n",
    "<li style =\"margin: 8px 0px;\" ><strong>HelpfulnessDenominator</strong> número de usuarios que indicaron que encontraron esta crítica util -</li>\n",
    "<li style =\"margin: 8px 0px;\" ><strong>Score</strong> - Rating, con valores entre 1 y 5 estrellas</li>\n",
    "<li style =\"margin: 8px 0px;\" ><strong>Time</strong> - timestamp for the review</li>\n",
    "<li style =\"margin: 8px 0px;\" ><strong>Summary</strong> - breve resumen de la reseña</li>\n",
    "<li style =\"margin: 8px 0px;\"><strong>Text</strong> - string que contiene la reseña </li>\n",
    "</ol>\n"
   ]
  },
  {
   "cell_type": "markdown",
   "metadata": {},
   "source": [
    "<p style=\"font-size:16px\" > <strong> Link Descarga Dataset: https://drive.google.com/open?id=0B1GNvIDVzwwLR2dwQVliRnBWMnM </strong>  </p> \n",
    "\n",
    "<p style=\"font-size:16px\" > <b> Objetivo: </b> Extraiga del documento el item “Text” y generé un corpus , almacenando en un string todas las reseñas del dataset . Usará esta variable para realizar las siguientes etapas de preprocesamiento de texto.</p>"
   ]
  },
  {
   "cell_type": "code",
   "execution_count": 1,
   "metadata": {
    "collapsed": false
   },
   "outputs": [],
   "source": [
    "import csv\n",
    "\n",
    "with open('amazon-fine-foods/Reviews.csv', encoding=\"utf8\") as csvfile:\n",
    "    reader = csv.DictReader(csvfile)\n",
    "    reseña = []\n",
    "    for row in reader:\n",
    "        reseña.append(row['Text'])"
   ]
  },
  {
   "cell_type": "code",
   "execution_count": 12,
   "metadata": {
    "collapsed": false
   },
   "outputs": [
    {
     "data": {
      "text/plain": [
       "'If you are like me, chances are that you\\'ve eaten a lot of Girl Scout cookies over the years, and if you are like most GSA cookie buyers, your favorites are the famous <a href=\"http://www.amazon.com/gp/product/B003D7TPZS\">Girl Scout Thin Mint Cookies</a>.  If this is true, chances are you have found the occasional thin mint cookie that equaled them but not a thin mint cookie that bettered them,...<br /><br />until now.<br /><br />These <a href=\"http://www.amazon.com/gp/product/B004JGQ15Y\">Oreo Peanut Butter Fudge Cr&egrave;mes</a>, also available in <a href=\"http://www.amazon.com/gp/product/B003XV1TAS\">Oreo Regular Fudge Cr&egrave;mes</a>, <a href=\"http://www.amazon.com/gp/product/B003XV8XK2\">Oreo Mint Fudge Cr&egrave;mes</a>, and <a href=\"http://www.amazon.com/gp/product/B004JGQ16I\">Oreo Golden Oreo Fudge Cr&egrave;mes</a>, are IMHO BETTER tasting than the Girl Scout Thin Mint Cookies so while I might in future be persuaded to purchase fund raising thin mint cookies, they will be for other people.<br /><br />I\\'ll be eating these!<br /><br />Note: As other reviewers have noted, this is not an entirely new concept for Oreo, which has offered limited editions of chocolate dipped whole sandwich cookies: <a href=\"http://www.amazon.com/gp/product/B004L98AQ2\">Oreo Mint Fudge Covered Chocolate Sandwich Cookies</a>, <a href=\"http://www.amazon.com/gp/product/B00110E15I\">Oreo Pure Milk Chocolate Covered Mint Sandwich Cookies</a>, and <a href=\"http://www.amazon.com/gp/product/B002UQIUA4\">Oreo White Fudge Covered Chocolate Sandwich Cookies</a>.  The trouble is that these are by definition limited editions that may not be available when you want to purchase them while the new fudge covered half cookies look to be a regular stock item available year round.'"
      ]
     },
     "execution_count": 12,
     "metadata": {},
     "output_type": "execute_result"
    }
   ],
   "source": [
    "reseña[524000]"
   ]
  },
  {
   "cell_type": "markdown",
   "metadata": {},
   "source": [
    "<h2>Preprocesamiento:</h2>\n",
    "\n",
    "<ol >\n",
    "<li style =\"margin: 12px 0px;\" >\n",
    "<p style=\"font-size:16px\" > Si observa el corpus, se dará cuenta de que hay etiquetas <i>html</i> embebidas en algunas reseñas. Para eliminar estas etiquetas , use la libreria <i>Beautiful Soup</i> (link: https://www.crummy.com/software/BeautifulSoup/bs4/doc/).</p> </li>\n",
    "\n",
    "</ol>\n"
   ]
  },
  {
   "cell_type": "code",
   "execution_count": 109,
   "metadata": {
    "collapsed": false
   },
   "outputs": [],
   "source": [
    "from bs4 import BeautifulSoup\n",
    "\n",
    "reseñas = []\n",
    "for i in range(len(reseña)):\n",
    "    markup = reseña[i]\n",
    "    soup = BeautifulSoup(markup, 'lxml')\n",
    "    reseña_sintag = soup.get_text()\n",
    "    reseñas.append(reseña_sintag)"
   ]
  },
  {
   "cell_type": "code",
   "execution_count": null,
   "metadata": {
    "collapsed": true
   },
   "outputs": [],
   "source": [
    "len(reseñas)"
   ]
  },
  {
   "cell_type": "code",
   "execution_count": null,
   "metadata": {
    "collapsed": true
   },
   "outputs": [],
   "source": [
    "reseña_token = []\n",
    "for i in range(len(reseñas)):\n",
    "    reseña_token.append(reseñas[i].split(' '))"
   ]
  },
  {
   "cell_type": "code",
   "execution_count": 25,
   "metadata": {
    "collapsed": false
   },
   "outputs": [
    {
     "data": {
      "text/plain": [
       "568454"
      ]
     },
     "execution_count": 25,
     "metadata": {},
     "output_type": "execute_result"
    }
   ],
   "source": [
    "reseña_token[0]"
   ]
  },
  {
   "cell_type": "markdown",
   "metadata": {},
   "source": [
    "2<li style =\"margin: 12px 0px;\">\n",
    "<p style=\"font-size:16px\"> Convierta el corpus , de modo que solo existan minúsculas (<code>lowercase</code>). </p></li>"
   ]
  },
  {
   "cell_type": "code",
   "execution_count": 23,
   "metadata": {
    "collapsed": false
   },
   "outputs": [],
   "source": [
    "for i in range(len(reseña_token)):\n",
    "    for j in range(len(reseña_token[i])):\n",
    "        reseña_token[i][j] = reseña_token[i][j].lower()"
   ]
  },
  {
   "cell_type": "markdown",
   "metadata": {},
   "source": [
    "3\n",
    "<li style =\"margin: 12px 0px;\">\n",
    "<p style=\"font-size:16px\" > Usando la lista de stopwords ortorgada por nltk, elimine aquellas palabras que sean clasificadas como stopwords, es decir, aquellas palabras que poseen poco contexto léxico y no otorgan información relevante. </p></li>"
   ]
  },
  {
   "cell_type": "code",
   "execution_count": 33,
   "metadata": {
    "collapsed": false
   },
   "outputs": [],
   "source": [
    "from nltk.corpus import stopwords\n",
    "stop = set(stopwords.words('english'))\n",
    "\n",
    "for i in range(len(reseña_token)):\n",
    "    for j in range(len(reseña_token[i])):\n",
    "        if reseña_token[i][j] not in stop:\n",
    "            reseña_token[i][j] = reseña_token[i][j] "
   ]
  },
  {
   "cell_type": "code",
   "execution_count": 36,
   "metadata": {
    "collapsed": false
   },
   "outputs": [
    {
     "data": {
      "text/plain": [
       "['i',\n",
       " 'have',\n",
       " 'bought',\n",
       " 'several',\n",
       " 'of',\n",
       " 'the',\n",
       " 'vitality',\n",
       " 'canned',\n",
       " 'dog',\n",
       " 'food',\n",
       " 'products',\n",
       " 'and',\n",
       " 'have',\n",
       " 'found',\n",
       " 'them',\n",
       " 'all',\n",
       " 'to',\n",
       " 'be',\n",
       " 'of',\n",
       " 'good',\n",
       " 'quality.',\n",
       " 'the',\n",
       " 'product',\n",
       " 'looks',\n",
       " 'more',\n",
       " 'like',\n",
       " 'a',\n",
       " 'stew',\n",
       " 'than',\n",
       " 'a',\n",
       " 'processed',\n",
       " 'meat',\n",
       " 'and',\n",
       " 'it',\n",
       " 'smells',\n",
       " 'better.',\n",
       " 'my',\n",
       " 'labrador',\n",
       " 'is',\n",
       " 'finicky',\n",
       " 'and',\n",
       " 'she',\n",
       " 'appreciates',\n",
       " 'this',\n",
       " 'product',\n",
       " 'better',\n",
       " 'than',\n",
       " '',\n",
       " 'most.']"
      ]
     },
     "execution_count": 36,
     "metadata": {},
     "output_type": "execute_result"
    }
   ],
   "source": [
    "reseña_token[0]"
   ]
  },
  {
   "cell_type": "markdown",
   "metadata": {},
   "source": [
    "4\n",
    "<li style =\"margin: 12px 0px;\">\n",
    "<p style=\"font-size:16px\" > Elimine las palabras que aparezcan en el corpus con una frecuencia inferior a un umbral definido (ejemplo : inferior a 3) ( para ello, es recomendable determinar previo la frecuencia de cada término usando un diccionario). </p></li>"
   ]
  },
  {
   "cell_type": "markdown",
   "metadata": {},
   "source": [
    "5\n",
    "<li style =\"margin: 12px 0px;\">\n",
    "<p style=\"font-size:16px\" > Usando nltk, determine los Top-30 collocations mas relevantes del corpus, usando Bigramas .Implemente la función <code>BigramAssocMeasures()</code> y <code>BigramCollocationFinder.from_words()</code>. Recuerde que para este punto el corpus debe estar tokenizado. (mirar documentación). </p></li>"
   ]
  },
  {
   "cell_type": "markdown",
   "metadata": {},
   "source": [
    "6\n",
    "<li style =\"margin: 12px 0px;\">\n",
    "<p style=\"font-size:16px\" > Usando la libreria incorporada en nltk, implemente Stanford POS tagger para categorizar y obtener los tags de cada token del corpus usando Part-Of-Speech Tagger (POSTagger). </p></li>"
   ]
  },
  {
   "cell_type": "markdown",
   "metadata": {},
   "source": [
    "7\n",
    "<li style =\"margin: 12px 0px;\">\n",
    "<p style=\"font-size:16px\" > Usando la libreria incorporada en nltk, implemente Named Entity Recognition (NER) con Stanford NER Tagger. Analice y describa sus resultados. </p></li>"
   ]
  },
  {
   "cell_type": "markdown",
   "metadata": {},
   "source": [
    "8\n",
    "<li style =\"margin: 12px 0px;\">\n",
    "<p style=\"font-size:16px\" > <strong> Sentiment Analysis </strong>: Implemente usando la libreria <i>Vader</i> incorporada en nltk para analizar la polaridad del corpus ,determinar cada documento (para ello es necesario re-estructurar el corpus como un array de documentos, o sentencias):</p>\n",
    "<ol>\n",
    "<li> Tokenizar el corpus a nivel de sentencia (recuerde incorporar el preprocesamiento previo).</li>\n",
    "<li> Para cada sentencias (reseña) , implemente Vader para determinar la polaridad.</li>\n",
    "</ol>\n",
    "</li>"
   ]
  },
  {
   "cell_type": "markdown",
   "metadata": {
    "collapsed": true
   },
   "source": []
  },
  {
   "cell_type": "markdown",
   "metadata": {},
   "source": [
    "<h2>Notas</h2>\n",
    "<ul>\n",
    "<li style =\"margin: 12px 0px; font-size: 16px\" >\n",
    "Para varias etapas del preprocesamiento, usará diferentes librerias disponibles en Python. Se recomienda usar el instalador de paquetes <i>pip</i> ( link: https://pypi.python.org/pypi/pip ) .\n",
    "</li>\n",
    "<li style =\"margin: 12px 0px; font-size: 16px\" >\n",
    "Algunos de estos pasos del preprocesamiento pueden demorar en compilar (en algunos casos sobre 45 min, dependiendo de la máquina), por lo que es recomendable ir guardando el estado del corpus su posterior uso. Para estos casos se recomienda usar la libreria <code> pickle </code> en python (link: https://docs.python.org/2/library/pickle.html ) \n",
    "</li>\n",
    "</ul>\n",
    "\n"
   ]
  },
  {
   "cell_type": "markdown",
   "metadata": {},
   "source": [
    "<h2>Documentación y Ejemplos</h2>\n",
    "<ul>\n",
    "<li style =\"margin: 12px 0px;\" >\n",
    "Beautiful Soup :\n",
    "https://www.crummy.com/software/BeautifulSoup/\n",
    "</li>\n",
    "<li style =\"margin: 12px 0px;\" >\n",
    "Bigrams and Collocations:\n",
    "http://www.nltk.org/howto/collocations.html\n",
    "</li>\n",
    "<li style =\"margin: 12px 0px;\" >\n",
    "Stanford PoS Tagger :\n",
    "http://www.nltk.org/api/nltk.tag.html#module-nltk.tag.stanford\n",
    "</li>\n",
    "<li>\n",
    "Stanford 'Tagger' Link Download : https://nlp.stanford.edu/software/tagger.shtml#Download\n",
    "</li>\n",
    "<li style =\"margin: 12px 0px;\" >\n",
    "Stanford Ner Tagger:\n",
    "https://pythonprogramming.net/named-entity-recognition-stanford-ner-tagger/\n",
    "</li>\n",
    "<li style =\"margin: 12px 0px;\" >\n",
    "Sentiment Analysis with Vader: \n",
    "http://www.nltk.org/howto/sentiment.html\n",
    "</li>\n",
    "\n",
    "</ul>"
   ]
  },
  {
   "cell_type": "markdown",
   "metadata": {},
   "source": [
    "<h2>Instrucciones</h2>"
   ]
  },
  {
   "cell_type": "markdown",
   "metadata": {},
   "source": [
    "<ol >\n",
    "<li style =\"margin: 12px 0px;\" >\n",
    "<p style=\"font-size:16px\" > El informe debe entregarse en un archivo jupyter notebook (diferente a este) con el código  implementado y los análisis correspondientes. El informe debe subirse en la plataforma oficial de moodle en formato comprimido (.zip) con el nombre <i>tarea1_rol.zip</i></p> </li>\n",
    "\n",
    "<li style =\"margin: 12px 0px;\" >\n",
    "<p style=\"font-size:16px\" > Todas las consultas serán atendidas por el canal de consultas de moodle. </i></p> </li>\n",
    "\n",
    "<li style =\"margin: 12px 0px;\" >\n",
    "<p style=\"font-size:16px\" > La fecha de entrega es el dia <strong>10 de Abril</strong> . Pasada esa fecha se descontaran 20 puntos por dia. </p> </li>\n",
    "\n",
    "\n",
    "</ol>"
   ]
  },
  {
   "cell_type": "code",
   "execution_count": null,
   "metadata": {
    "collapsed": true
   },
   "outputs": [],
   "source": []
  }
 ],
 "metadata": {
  "kernelspec": {
   "display_name": "Python 3",
   "language": "python",
   "name": "python3"
  },
  "language_info": {
   "codemirror_mode": {
    "name": "ipython",
    "version": 3
   },
   "file_extension": ".py",
   "mimetype": "text/x-python",
   "name": "python",
   "nbconvert_exporter": "python",
   "pygments_lexer": "ipython3",
   "version": "3.6.0"
  }
 },
 "nbformat": 4,
 "nbformat_minor": 2
}
